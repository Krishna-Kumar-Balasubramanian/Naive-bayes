{
 "cells": [
  {
   "cell_type": "markdown",
   "metadata": {},
   "source": [
    "# Assignment 2\n",
    "## Naive Bayes Classifier"
   ]
  },
  {
   "cell_type": "markdown",
   "metadata": {},
   "source": [
    "## Student Details (1 Point)\n",
    "\n",
    "First Student Name and ID: \n",
    " Name :Krishna kumar Balasubramanian\n",
    " ID   : 1001949939\n",
    " Name : Mohanraj Senabady\n",
    " ID   : 1001964323\n",
    " Name : Pooja Srinivasan \n",
    " ID   : 1001952061\n",
    "\n",
    "Notes: When submitting, fill your name and ID in this cell.  [1 point]\n",
    "\n",
    "Make sure to write about any 4-5 line to explain any kind of visualization\n",
    "\n",
    "Do not to forget to cite any external sources used by you."
   ]
  },
  {
   "cell_type": "markdown",
   "metadata": {},
   "source": [
    "# Remeber to cite any external sources here"
   ]
  },
  {
   "cell_type": "markdown",
   "metadata": {},
   "source": [
    "# Naive Bayes-\n",
    "\n",
    "## Programming Assignment Details-\n",
    "\n",
    "## Preprocessing-\n",
    "You have textual data that you cannot feed into the model. Therefore, you need to extract features from the text (email) and transform the data. There are techniques to do so, such as Bag of Words, n-grams, Tf-Idf, Word2Vec, CountVectorizer, and many others.\n",
    "\n",
    "## The Model-\n",
    "Test train split, using 80% for training, rest for testing. Next you will need to train NB model(Gausian) for classification.\n",
    "\n",
    "Create the model using training data, predict on the test data, and get the accuracy, plot the confusion matrix.\n",
    "\n",
    "## Metrics to report- \n",
    "You will need to report-\n",
    "1. Accuracy Score(metrics.accuracy_score)\n",
    "2. Confusion Matrix(metrics.confusion_matrix) plotted graphically(It needs to be in the final jupyter file which you submit)\n",
    "\n",
    "## Answer the following questions-\n",
    "Do not include too much information, it has to be consise. Just your student ids, and the necessary info.\n",
    "1. Briefly explain your approach, any preprocessing, explain the output, any visualisation for explanation, in same jupyter file. (3-4 paragraphs max)\n",
    "\n",
    "## Grading-\n",
    "1. (30 pts) Loading and preprocessing of the data.\n",
    "2. (30 pts) Creation of correct model(NB), with decent metrics, plotting confusion matrix.\n",
    "3. (30 pts) Explaining the approach, also explain the(if any) preprocessor which you used.\n",
    "4. (7 pts) Neatly presented code, with comments, correctly named files, complete report section, and followed the UTA code of conduct.\n",
    "\n",
    "## Programming Assignment Submission Instructions (2 Points)\n",
    "Each file should be submitted separately, do not compress them, only one student submits.\n",
    "\n",
    "Format of file naming:\n",
    "\n",
    "NB-\n",
    "'yourLastName_Last4digitsofyourID_NB.ipynb' (Report in markdown cells and code in code cells of Notebook preferred)\n",
    "\n",
    "## What to submit-\n",
    "1. Jupyter files(.ipynb)"
   ]
  },
  {
   "cell_type": "code",
   "execution_count": 31,
   "metadata": {},
   "outputs": [
    {
     "name": "stderr",
     "output_type": "stream",
     "text": [
      "[nltk_data] Downloading package stopwords to\n",
      "[nltk_data]     /Users/krishnakumar/nltk_data...\n",
      "[nltk_data]   Package stopwords is already up-to-date!\n"
     ]
    },
    {
     "data": {
      "text/plain": [
       "True"
      ]
     },
     "execution_count": 31,
     "metadata": {},
     "output_type": "execute_result"
    }
   ],
   "source": [
    "import pandas as pd\n",
    "from sklearn.model_selection import train_test_split\n",
    "from sklearn import metrics\n",
    "from sklearn.naive_bayes import GaussianNB\n",
    "import pandas as pd\n",
    "\n",
    "from sklearn.metrics import confusion_matrix\n",
    "from sklearn.metrics import ConfusionMatrixDisplay\n",
    "from sklearn.metrics import classification_report\n",
    "import matplotlib.pyplot as plt\n",
    "\n",
    "import numpy as np\n",
    "\n",
    "from sklearn.feature_extraction.text import TfidfVectorizer\n",
    "\n",
    "import seaborn as sea\n",
    "%matplotlib inline\n",
    "\n",
    "import nltk\n",
    "nltk.download('stopwords')"
   ]
  },
  {
   "cell_type": "markdown",
   "metadata": {},
   "source": [
    "1) Load the dataset using read_csv."
   ]
  },
  {
   "cell_type": "code",
   "execution_count": 32,
   "metadata": {},
   "outputs": [
    {
     "data": {
      "text/html": [
       "<div>\n",
       "<style scoped>\n",
       "    .dataframe tbody tr th:only-of-type {\n",
       "        vertical-align: middle;\n",
       "    }\n",
       "\n",
       "    .dataframe tbody tr th {\n",
       "        vertical-align: top;\n",
       "    }\n",
       "\n",
       "    .dataframe thead th {\n",
       "        text-align: right;\n",
       "    }\n",
       "</style>\n",
       "<table border=\"1\" class=\"dataframe\">\n",
       "  <thead>\n",
       "    <tr style=\"text-align: right;\">\n",
       "      <th></th>\n",
       "      <th>email</th>\n",
       "      <th>label</th>\n",
       "    </tr>\n",
       "  </thead>\n",
       "  <tbody>\n",
       "    <tr>\n",
       "      <th>0</th>\n",
       "      <td>date wed NUMBER aug NUMBER NUMBER NUMBER NUMB...</td>\n",
       "      <td>0</td>\n",
       "    </tr>\n",
       "    <tr>\n",
       "      <th>1</th>\n",
       "      <td>martin a posted tassos papadopoulos the greek ...</td>\n",
       "      <td>0</td>\n",
       "    </tr>\n",
       "    <tr>\n",
       "      <th>2</th>\n",
       "      <td>man threatens explosion in moscow thursday aug...</td>\n",
       "      <td>0</td>\n",
       "    </tr>\n",
       "    <tr>\n",
       "      <th>3</th>\n",
       "      <td>klez the virus that won t die already the most...</td>\n",
       "      <td>0</td>\n",
       "    </tr>\n",
       "    <tr>\n",
       "      <th>4</th>\n",
       "      <td>in adding cream to spaghetti carbonara which ...</td>\n",
       "      <td>0</td>\n",
       "    </tr>\n",
       "  </tbody>\n",
       "</table>\n",
       "</div>"
      ],
      "text/plain": [
       "                                               email  label\n",
       "0   date wed NUMBER aug NUMBER NUMBER NUMBER NUMB...      0\n",
       "1  martin a posted tassos papadopoulos the greek ...      0\n",
       "2  man threatens explosion in moscow thursday aug...      0\n",
       "3  klez the virus that won t die already the most...      0\n",
       "4   in adding cream to spaghetti carbonara which ...      0"
      ]
     },
     "execution_count": 32,
     "metadata": {},
     "output_type": "execute_result"
    }
   ],
   "source": [
    "#read comma-separated values (CSV) data from a file or URL and create a DataFrame object\n",
    "df = pd.read_csv(\"dataset_NB.csv\")\n",
    "df.head()"
   ]
  },
  {
   "cell_type": "code",
   "execution_count": 33,
   "metadata": {},
   "outputs": [
    {
     "data": {
      "text/html": [
       "<div>\n",
       "<style scoped>\n",
       "    .dataframe tbody tr th:only-of-type {\n",
       "        vertical-align: middle;\n",
       "    }\n",
       "\n",
       "    .dataframe tbody tr th {\n",
       "        vertical-align: top;\n",
       "    }\n",
       "\n",
       "    .dataframe thead tr th {\n",
       "        text-align: left;\n",
       "    }\n",
       "\n",
       "    .dataframe thead tr:last-of-type th {\n",
       "        text-align: right;\n",
       "    }\n",
       "</style>\n",
       "<table border=\"1\" class=\"dataframe\">\n",
       "  <thead>\n",
       "    <tr>\n",
       "      <th></th>\n",
       "      <th colspan=\"4\" halign=\"left\">email</th>\n",
       "    </tr>\n",
       "    <tr>\n",
       "      <th></th>\n",
       "      <th>count</th>\n",
       "      <th>unique</th>\n",
       "      <th>top</th>\n",
       "      <th>freq</th>\n",
       "    </tr>\n",
       "    <tr>\n",
       "      <th>label</th>\n",
       "      <th></th>\n",
       "      <th></th>\n",
       "      <th></th>\n",
       "      <th></th>\n",
       "    </tr>\n",
       "  </thead>\n",
       "  <tbody>\n",
       "    <tr>\n",
       "      <th>0</th>\n",
       "      <td>2500</td>\n",
       "      <td>2445</td>\n",
       "      <td>url URL date not supplied URL</td>\n",
       "      <td>10</td>\n",
       "    </tr>\n",
       "    <tr>\n",
       "      <th>1</th>\n",
       "      <td>499</td>\n",
       "      <td>427</td>\n",
       "      <td>lowest rates available for term life insurance...</td>\n",
       "      <td>5</td>\n",
       "    </tr>\n",
       "  </tbody>\n",
       "</table>\n",
       "</div>"
      ],
      "text/plain": [
       "      email                                                               \n",
       "      count unique                                                top freq\n",
       "label                                                                     \n",
       "0      2500   2445                     url URL date not supplied URL    10\n",
       "1       499    427  lowest rates available for term life insurance...    5"
      ]
     },
     "execution_count": 33,
     "metadata": {},
     "output_type": "execute_result"
    }
   ],
   "source": [
    "#each group is defined by a unique value in a specified column\n",
    "df.groupby('label').describe()"
   ]
  },
  {
   "cell_type": "code",
   "execution_count": 34,
   "metadata": {},
   "outputs": [
    {
     "data": {
      "text/plain": [
       "<AxesSubplot:xlabel='label', ylabel='count'>"
      ]
     },
     "execution_count": 34,
     "metadata": {},
     "output_type": "execute_result"
    },
    {
     "data": {
      "image/png": "[encoded data removed]",
      "text/plain": [
       "<Figure size 640x480 with 1 Axes>"
      ]
     },
     "metadata": {},
     "output_type": "display_data"
    }
   ],
   "source": [
    "#plot the count of occurrences of categorical data in a dataset\n",
    "sea.countplot(data=df, x='label')"
   ]
  },
  {
   "cell_type": "markdown",
   "metadata": {},
   "source": [
    "2) Data PreProcessing\n",
    "Feature extraction and data preprocessing using the scikit-learn TfidfVectorizer object:\n",
    "\n",
    "For preprocessing and feature extraction in text datasets, particularly email datasets, TF-IDF is a commonly used technique for numerous reasons:\n",
    "\n",
    "Certain words may be commonly used in email databases even though they may not be very informative about the email's content. In contrast, some terms might be used less frequently but are essential to comprehending the email's message. The TF-IDF method gives words that are crucial for comprehending the email's content greater weight by taking into account both the frequency of terms in the document (TF) and the frequency of words across all texts (IDF).\n",
    "\n",
    "Email datasets may have a large number of noisy features, such as URLs, misspelled words, or email addresses, which can affect the analysis's quality. By giving these noisy features modest weights, TF-IDF can assist in lessening their influence."
   ]
  },
  {
   "cell_type": "code",
   "execution_count": 35,
   "metadata": {},
   "outputs": [],
   "source": [
    "# Data Preprocessing\n",
    "import string\n",
    "from nltk.corpus import stopwords\n",
    "from nltk import PorterStemmer as Stemmer\n",
    "def process(p):\n",
    "    # lowercase\n",
    "    p = p.lower()\n",
    "    # removes punctuation\n",
    "    p = ''.join([t for t in p if t not in string.punctuation])\n",
    "    # removes stopwords\n",
    "    p = [t for t in p.split() if t not in stopwords.words('english')]\n",
    "    # stemming\n",
    "    st = Stemmer()\n",
    "    p = [st.stem(t) for t in p]\n",
    "    # return token list\n",
    "    return p"
   ]
  },
  {
   "cell_type": "code",
   "execution_count": 36,
   "metadata": {},
   "outputs": [
    {
     "data": {
      "text/plain": [
       "email    2999\n",
       "label    2999\n",
       "dtype: int64"
      ]
     },
     "execution_count": 36,
     "metadata": {},
     "output_type": "execute_result"
    }
   ],
   "source": [
    "#Dropping rows in which there are no emails available(nan)\n",
    "df.dropna(inplace=True)\n",
    "df.count()"
   ]
  },
  {
   "cell_type": "code",
   "execution_count": 37,
   "metadata": {},
   "outputs": [
    {
     "data": {
      "text/plain": [
       "0    [date, wed, number, aug, number, number, numbe...\n",
       "1    [martin, post, tasso, papadopoulo, greek, scul...\n",
       "2    [man, threaten, explos, moscow, thursday, augu...\n",
       "3    [klez, viru, die, alreadi, prolif, viru, ever,...\n",
       "4    [ad, cream, spaghetti, carbonara, effect, past...\n",
       "5    [jump, carbonara, one, favourit, make, ask, he...\n",
       "6    [scotsman, number, august, number, playboy, wa...\n",
       "7    [martin, adamson, wrote, basic, mixtur, beaten...\n",
       "8    [scotsman, thu, number, aug, number, meaning, ...\n",
       "9    [tri, research, via, sa, mirror, search, engin...\n",
       "Name: email, dtype: object"
      ]
     },
     "execution_count": 37,
     "metadata": {},
     "output_type": "execute_result"
    }
   ],
   "source": [
    "#Checking with our datasets\n",
    "df['email'][:10].apply(process)"
   ]
  },
  {
   "cell_type": "code",
   "execution_count": 38,
   "metadata": {},
   "outputs": [],
   "source": [
    "#tfidfv technique is used in extraction process\n",
    "tfidfv = TfidfVectorizer(analyzer=process)\n",
    "data = tfidfv.fit_transform(df['email'].values.astype('U'))"
   ]
  },
  {
   "cell_type": "code",
   "execution_count": 39,
   "metadata": {},
   "outputs": [
    {
     "name": "stdout",
     "output_type": "stream",
     "text": [
      "man threatens explosion in moscow thursday august NUMBER NUMBER NUMBER NUMBER pm moscow ap security officers on thursday seized an unidentified man who said he was armed with explosives and threatened to blow up his truck in front of russia s federal security services headquarters in moscow ntv television reported the officers seized an automatic rifle the man was carrying then the man got out of the truck and was taken into custody ntv said no other details were immediately available the man had demanded talks with high government officials the interfax and itar tass news agencies said ekho moskvy radio reported that he wanted to talk with russian president vladimir putin police and security forces rushed to the security service building within blocks of the kremlin red square and the bolshoi ballet and surrounded the man who claimed to have one and a half tons of explosives the news agencies said negotiations continued for about one and a half hours outside the building itar tass and interfax reported citing witnesses the man later drove away from the building under police escort and drove to a street near moscow s olympic penta hotel where authorities held further negotiations with him the moscow police press service said the move appeared to be an attempt by security services to get him to a more secure location yahoo groups sponsor NUMBER dvds free s p join now URL to unsubscribe from this group send an email to forteana unsubscribe URL your use of yahoo groups is subject to URL \n"
     ]
    }
   ],
   "source": [
    "#df.iloc[2] selects the row with index 2 (using integer-based indexing)\n",
    "ind = df.iloc[2]['email']\n",
    "print(ind)"
   ]
  },
  {
   "cell_type": "code",
   "execution_count": 40,
   "metadata": {},
   "outputs": [
    {
     "name": "stdout",
     "output_type": "stream",
     "text": [
      "  (0, 24374)\t0.08238875335638861\n",
      "  (0, 23903)\t0.042648518672198814\n",
      "  (0, 23897)\t0.06426148254161416\n",
      "  (0, 23450)\t0.02920440411739991\n",
      "  (0, 23239)\t0.08454415430974409\n",
      "  (0, 22805)\t0.02064921628253946\n",
      "  (0, 22788)\t0.03779361041073908\n",
      "  (0, 22633)\t0.07503577949419662\n",
      "  (0, 22485)\t0.08454415430974409\n",
      "  (0, 22001)\t0.1255344924241918\n",
      "  (0, 21733)\t0.0627672462120959\n",
      "  (0, 21519)\t0.10612856982435563\n",
      "  (0, 21486)\t0.12462445753265959\n",
      "  (0, 21270)\t0.061456468466449574\n",
      "  (0, 21145)\t0.17775820379396962\n",
      "  (0, 21103)\t0.07090485017171602\n",
      "  (0, 21087)\t0.04971087903140408\n",
      "  (0, 20874)\t0.06324249317429229\n",
      "  (0, 20679)\t0.03217989805461683\n",
      "  (0, 20594)\t0.04749094507072027\n",
      "  (0, 20308)\t0.06373985244270332\n",
      "  (0, 20263)\t0.03359992578307323\n",
      "  (0, 19344)\t0.14342922961844776\n",
      "  (0, 19286)\t0.03266966137511074\n",
      "  (0, 19251)\t0.13077584605378767\n",
      "  :\t:\n",
      "  (0, 5994)\t0.08887910189698481\n",
      "  (0, 5738)\t0.0468427892792226\n",
      "  (0, 5642)\t0.1394457412282691\n",
      "  (0, 4988)\t0.04584287448652976\n",
      "  (0, 4864)\t0.053064284912177816\n",
      "  (0, 4461)\t0.07548544187774882\n",
      "  (0, 4042)\t0.046635184770840034\n",
      "  (0, 3492)\t0.04528494113968612\n",
      "  (0, 3456)\t0.0627672462120959\n",
      "  (0, 3020)\t0.05344615751453117\n",
      "  (0, 2662)\t0.11486998800299533\n",
      "  (0, 2317)\t0.08887910189698481\n",
      "  (0, 2192)\t0.062312228766329796\n",
      "  (0, 2164)\t0.053253516334334526\n",
      "  (0, 1606)\t0.08454415430974409\n",
      "  (0, 1473)\t0.04368877015374148\n",
      "  (0, 1433)\t0.03985985631509852\n",
      "  (0, 1415)\t0.05041917083818365\n",
      "  (0, 1396)\t0.04727049816290329\n",
      "  (0, 1377)\t0.04492853159490307\n",
      "  (0, 1340)\t0.05056663933128431\n",
      "  (0, 1155)\t0.0565868446575765\n",
      "  (0, 1039)\t0.044499104543883436\n",
      "  (0, 1003)\t0.07065313502209705\n",
      "  (0, 425)\t0.113173689315153\n"
     ]
    }
   ],
   "source": [
    "print(tfidfv.transform([ind]))"
   ]
  },
  {
   "cell_type": "code",
   "execution_count": 41,
   "metadata": {},
   "outputs": [
    {
     "name": "stdout",
     "output_type": "stream",
     "text": [
      "index\tidf\ttfidf\tterm\n",
      "425\t5.2928\t0.1132\tagenc\n",
      "1003\t6.6085\t0.0707\tap\n",
      "1039\t4.1622\t0.0445\tappear\n",
      "1155\t5.2928\t0.0566\tarm\n",
      "1340\t4.7297\t0.0506\tattempt\n",
      "1377\t4.2023\t0.0449\taugust\n",
      "1396\t4.4214\t0.0473\tauthor\n",
      "1415\t4.7159\t0.0504\tautomat\n",
      "1433\t3.7283\t0.0399\tavail\n",
      "1473\t4.0864\t0.0437\taway\n",
      "1606\t7.9078\t0.0845\tballet\n",
      "2164\t4.9810\t0.0533\tblock\n",
      "2192\t5.8283\t0.0623\tblow\n",
      "2317\t8.3132\t0.0889\tbolshoi\n",
      "2662\t3.5814\t0.1149\tbuild\n",
      "3020\t4.9990\t0.0534\tcarri\n",
      "3456\t5.8709\t0.0628\tcite\n",
      "3492\t4.2357\t0.0453\tclaim\n",
      "4042\t4.3620\t0.0466\tcontinu\n",
      "4461\t7.0605\t0.0755\tcustodi\n",
      "4864\t4.9633\t0.0531\tdemand\n",
      "4988\t4.2879\t0.0458\tdetail\n",
      "5642\t6.5215\t0.1394\tdrove\n",
      "5738\t4.3814\t0.0468\tdvd\n",
      "5994\t8.3132\t0.0889\tekho\n",
      "6072\t2.3930\t0.0256\temail\n",
      "6416\t6.9269\t0.0741\tescort\n",
      "6671\t6.2338\t0.1999\texplos\n",
      "6917\t4.8017\t0.0513\tfeder\n",
      "7335\t4.2614\t0.0456\tforc\n",
      "7394\t4.1543\t0.0444\tforteana\n",
      "7488\t2.7001\t0.0289\tfree\n",
      "7561\t5.0551\t0.0540\tfront\n",
      "7914\t2.0897\t0.0223\tget\n"
     ]
    },
    {
     "name": "stderr",
     "output_type": "stream",
     "text": [
      "/Users/krishnakumar/opt/anaconda3/lib/python3.9/site-packages/sklearn/utils/deprecation.py:87: FutureWarning: Function get_feature_names is deprecated; get_feature_names is deprecated in 1.0 and will be removed in 1.2. Please use get_feature_names_out instead.\n",
      "  warnings.warn(msg, category=FutureWarning)\n"
     ]
    },
    {
     "name": "stdout",
     "output_type": "stream",
     "text": [
      "8191\t3.3680\t0.0360\tgot\n",
      "8206\t4.0719\t0.0435\tgovern\n",
      "8375\t2.9333\t0.0941\tgroup\n",
      "8585\t4.2614\t0.0911\thalf\n",
      "8789\t6.4414\t0.0689\theadquart\n",
      "8844\t5.0943\t0.0545\theld\n",
      "8962\t3.7753\t0.0404\thigh\n",
      "9225\t5.8283\t0.0623\thotel\n",
      "9235\t3.8824\t0.0415\thour\n",
      "9603\t4.1861\t0.0448\timmedi\n",
      "9979\t8.3132\t0.1778\tinterfax\n",
      "10242\t8.3132\t0.1778\titar\n",
      "10590\t4.0937\t0.0438\tjoin\n",
      "11162\t8.3132\t0.0889\tkremlin\n",
      "11367\t4.3242\t0.0462\tlater\n",
      "11879\t4.9288\t0.0527\tlocat\n",
      "12290\t4.2702\t0.3196\tman\n",
      "13177\t7.2146\t0.3857\tmoscow\n",
      "13179\t8.3132\t0.0889\tmoskvi\n",
      "13212\t3.9629\t0.0424\tmove\n",
      "13577\t4.8475\t0.0518\tnear\n",
      "13610\t6.2983\t0.1347\tnegoti\n",
      "13711\t3.8302\t0.0819\tnews\n",
      "14074\t8.3132\t0.1778\tntv\n",
      "14089\t1.1916\t0.0637\tnumber\n",
      "15300\t4.2528\t0.0909\toffic\n",
      "15301\t4.5066\t0.0482\toffici\n",
      "15377\t7.3969\t0.0791\tolymp\n",
      "15404\t2.2379\t0.0479\tone\n",
      "15677\t4.8632\t0.0520\toutsid\n",
      "15806\t3.9312\t0.0420\tp\n",
      "16164\t8.3132\t0.0889\tpenta\n",
      "16580\t3.7969\t0.0406\tpm\n",
      "16678\t5.1352\t0.1647\tpolic\n",
      "16970\t4.6369\t0.0496\tpresid\n",
      "16975\t4.8320\t0.0517\tpress\n",
      "17339\t8.3132\t0.0889\tputin\n",
      "17654\t5.1562\t0.0551\tradio\n",
      "17926\t4.1701\t0.0446\tred\n",
      "18157\t3.7131\t0.1191\treport\n",
      "18400\t7.6201\t0.0815\trifl\n",
      "18728\t6.1732\t0.0660\trush\n",
      "18733\t6.6085\t0.0707\trussia\n",
      "18734\t6.3673\t0.0681\trussian\n",
      "18841\t3.1922\t0.1706\tsaid\n",
      "19218\t3.9375\t0.2526\tsecur\n",
      "19251\t6.1160\t0.1308\tseiz\n",
      "19286\t3.0557\t0.0327\tsend\n",
      "19344\t3.3539\t0.1434\tservic\n",
      "20263\t3.1427\t0.0336\tsponsor\n",
      "20308\t5.9618\t0.0637\tsquar\n",
      "20594\t4.4420\t0.0475\tstreet\n",
      "20679\t3.0099\t0.0322\tsubject\n",
      "20874\t5.9153\t0.0632\tsurround\n",
      "21087\t4.6497\t0.0497\ttaken\n",
      "21103\t3.3160\t0.0709\ttalk\n",
      "21145\t8.3132\t0.1778\ttass\n",
      "21270\t5.7483\t0.0615\ttelevis\n",
      "21486\t5.8283\t0.1246\tthreaten\n",
      "21519\t4.9633\t0.1061\tthursday\n",
      "21733\t5.8709\t0.0628\tton\n",
      "22001\t5.8709\t0.1255\ttruck\n",
      "22485\t7.9078\t0.0845\tunidentifi\n",
      "22633\t3.5092\t0.0750\tunsubscrib\n",
      "22788\t1.1783\t0.0378\turl\n",
      "22805\t1.9314\t0.0206\tuse\n",
      "23239\t7.9078\t0.0845\tvladimir\n",
      "23450\t2.7316\t0.0292\twant\n",
      "23897\t6.0106\t0.0643\twit\n",
      "23903\t3.9891\t0.0426\twithin\n",
      "24374\t3.8531\t0.0824\tyahoo\n"
     ]
    }
   ],
   "source": [
    "k = tfidfv.transform([ind]).toarray()[0]\n",
    "print('index\\tidf\\ttfidf\\tterm')\n",
    "for i in range(len(k)):\n",
    "    if k[i] != 0:\n",
    "        print(i, format(tfidfv.idf_[i], '.4f'), format(k[i], '.4f'), tfidfv.get_feature_names()[i],sep='\\t')"
   ]
  },
  {
   "cell_type": "code",
   "execution_count": 42,
   "metadata": {},
   "outputs": [],
   "source": [
    "from sklearn.pipeline import Pipeline\n",
    "from sklearn.naive_bayes import GaussianNB"
   ]
  },
  {
   "cell_type": "markdown",
   "metadata": {},
   "source": [
    "3) Spliting the dataset into 80% training and 20% testing dataset."
   ]
  },
  {
   "cell_type": "code",
   "execution_count": 43,
   "metadata": {},
   "outputs": [],
   "source": [
    "# Splitting the Dataframe into test (20 %) and train (80 %) data.\n",
    "from sklearn.model_selection import train_test_split\n",
    "x_train, x_test, y_train, y_test = train_test_split(df['email'], df['label'], test_size=0.20, random_state = 21)"
   ]
  },
  {
   "cell_type": "code",
   "execution_count": 44,
   "metadata": {},
   "outputs": [],
   "source": [
    "# Vectorizer\n",
    "tfidf=TfidfVectorizer(analyzer=process)\n",
    "x_train=tfidf.fit_transform(x_train)\n",
    "x_test=tfidf.transform(x_test)"
   ]
  },
  {
   "cell_type": "markdown",
   "metadata": {},
   "source": [
    "4) Gaussian Naive Bayes\n",
    "Plotting the best value of k using Gaussian Naive Bayes with 10 fold cross validation and the elbow method:\n",
    "\n",
    "The probability distributions of each feature for each class label in the training data must first be computed in order for the algorithm to work. It accurately determines the mean and standard deviation of each feature for each class label. After calculating the likelihood of a new example given a set of feature values belonging to each class label based on the estimated probability distributions, the algorithm then uses Bayes' theorem to compute the posterior probability of each class label given the feature values. The end outcome of the procedure is predicted to be the class label with the highest posterior probability.\n",
    "\n",
    "The text input is first transformed into numerical features using the TF-IDF approach before being used to create a Gaussian Naive Bayes model for text classification. The performance of the model is then assessed using k-fold cross-validation on the training data, and the elbow technique is used to get the ideal value for the hyperparameter k. Following training, the model's accuracy is assessed using test data.\n",
    "\n"
   ]
  },
  {
   "cell_type": "code",
   "execution_count": 45,
   "metadata": {},
   "outputs": [
    {
     "data": {
      "text/plain": [
       "GaussianNB()"
      ]
     },
     "execution_count": 45,
     "metadata": {},
     "output_type": "execute_result"
    }
   ],
   "source": [
    "#Gaussian NB\n",
    "gnb=GaussianNB()\n",
    "gnb.fit(x_train.toarray(),y_train)"
   ]
  },
  {
   "cell_type": "code",
   "execution_count": 46,
   "metadata": {},
   "outputs": [],
   "source": [
    "predictions =gnb.predict(x_test.toarray())"
   ]
  },
  {
   "cell_type": "code",
   "execution_count": 47,
   "metadata": {},
   "outputs": [
    {
     "name": "stdout",
     "output_type": "stream",
     "text": [
      "test cases in total 600\n",
      "wrong predictions 31\n"
     ]
    }
   ],
   "source": [
    "c = 0\n",
    "for i in range(len(y_test)):\n",
    "    if y_test.iloc[i] != predictions[i]:\n",
    "        c += 1\n",
    "print('test cases in total', len(y_test))\n",
    "print('wrong predictions', c)"
   ]
  },
  {
   "cell_type": "code",
   "execution_count": 48,
   "metadata": {},
   "outputs": [
    {
     "data": {
      "text/plain": [
       "<31x23520 sparse matrix of type '<class 'numpy.float64'>'\n",
       "\twith 1399 stored elements in Compressed Sparse Row format>"
      ]
     },
     "execution_count": 48,
     "metadata": {},
     "output_type": "execute_result"
    }
   ],
   "source": [
    "x_test[y_test != predictions]"
   ]
  },
  {
   "cell_type": "code",
   "execution_count": 49,
   "metadata": {},
   "outputs": [
    {
     "data": {
      "text/plain": [
       "19"
      ]
     },
     "execution_count": 49,
     "metadata": {},
     "output_type": "execute_result"
    }
   ],
   "source": [
    "y_test[y_test != predictions].sum()"
   ]
  },
  {
   "cell_type": "code",
   "execution_count": 50,
   "metadata": {},
   "outputs": [
    {
     "data": {
      "text/plain": [
       "94"
      ]
     },
     "execution_count": 50,
     "metadata": {},
     "output_type": "execute_result"
    }
   ],
   "source": [
    "y_test.sum()"
   ]
  },
  {
   "cell_type": "code",
   "execution_count": 51,
   "metadata": {},
   "outputs": [
    {
     "name": "stdout",
     "output_type": "stream",
     "text": [
      "              precision    recall  f1-score   support\n",
      "\n",
      "           0       0.98      0.96      0.97       513\n",
      "           1       0.80      0.86      0.83        87\n",
      "\n",
      "    accuracy                           0.95       600\n",
      "   macro avg       0.89      0.91      0.90       600\n",
      "weighted avg       0.95      0.95      0.95       600\n",
      "\n"
     ]
    }
   ],
   "source": [
    "from sklearn.metrics import classification_report,confusion_matrix,accuracy_score,ConfusionMatrixDisplay\n",
    "print(classification_report(predictions, y_test))"
   ]
  },
  {
   "cell_type": "code",
   "execution_count": 52,
   "metadata": {},
   "outputs": [
    {
     "name": "stdout",
     "output_type": "stream",
     "text": [
      "The accuracy of the model is 94.83333333333334 %\n"
     ]
    }
   ],
   "source": [
    "#Accuracy\n",
    "acc = accuracy_score(predictions, y_test)*100\n",
    "print(\"The accuracy of the model is {} %\".format(acc))"
   ]
  },
  {
   "cell_type": "markdown",
   "metadata": {},
   "source": [
    "6) Confusion matrix\n",
    "A table called a confusion matrix is frequently used to assess how well a machine learning model is working. The number of accurate and inaccurate predictions the model made on a test set is displayed as a two-dimensional matrix.\n"
   ]
  },
  {
   "cell_type": "code",
   "execution_count": 53,
   "metadata": {},
   "outputs": [
    {
     "name": "stdout",
     "output_type": "stream",
     "text": [
      "[[494  19]\n",
      " [ 12  75]]\n"
     ]
    }
   ],
   "source": [
    "#Confusion Matrix\n",
    "cm = confusion_matrix(predictions, y_test)\n",
    "print(cm)"
   ]
  },
  {
   "cell_type": "markdown",
   "metadata": {},
   "source": [
    "The proportion of positive samples that the model accurately identified as positive is know as True Positives (TP).\n",
    "\n",
    "The proportion of positive samples that the model misinterpreted as negative is False Negatives (FN).\n",
    "\n",
    "False Positives (FP): The proportion of negative samples that the model mistook for positive.\n",
    "\n",
    "The number of negative samples that the model properly identified as negative is known as true negatives (TN).\n",
    "\n",
    "The projected labels serve as the rows, while the true labels serve as the columns, when these values are presented in a table format."
   ]
  },
  {
   "cell_type": "code",
   "execution_count": 54,
   "metadata": {},
   "outputs": [
    {
     "data": {
      "image/png": "[encoded data removed]",
      "text/plain": [
       "<Figure size 750x750 with 1 Axes>"
      ]
     },
     "metadata": {},
     "output_type": "display_data"
    }
   ],
   "source": [
    "#Plotting the confusion Matrix\n",
    "fig, ax = plt.subplots(figsize=(7.5, 7.5))\n",
    "ax.matshow(cm, cmap=plt.cm.Blues, alpha=0.3)\n",
    "for i in range(cm.shape[0]):\n",
    "    for j in range(cm.shape[1]):\n",
    "        ax.text(x=j, y=i,s=cm[i, j], va='center', ha='center', size='xx-large')\n",
    "plt.xlabel('Predictions', fontsize=18)\n",
    "plt.ylabel('Actuals', fontsize=18)\n",
    "plt.title('Confusion Matrix', fontsize=18)\n",
    "plt.show()"
   ]
  },
  {
   "cell_type": "markdown",
   "metadata": {},
   "source": [
    "Report:\n",
    "1. Accuracy Score: 94.83333333333334%\n",
    "2. Confusion Matrix(metrics.confusion_matrix) plotted graphically(It needs to be in the final jupyter file which you submit):\n",
    "\n",
    "    True Positive (TP): 494\n",
    "    True Negative (TN): 19\n",
    "    False Negative (FN): 75\n",
    "    False Positive (FP): 12\n",
    "\n",
    "   "
   ]
  },
  {
   "cell_type": "markdown",
   "metadata": {},
   "source": [
    "Team Contribution:\n",
    "Krishna Kumar Balasubramanian: \n",
    "Loading and preprocessing of the data.\n",
    "Pooja Srinivasan:\n",
    "Explaining the approach, also explain the(if any) preprocessor which you used.\n",
    "Mohan Senabady:\n",
    "Creation of correct model(NB), with decent metrics, plotting confusion matrix.\n",
    "\n",
    "Code presentation with comments and reports are done together."
   ]
  },
  {
   "cell_type": "code",
   "execution_count": null,
   "metadata": {},
   "outputs": [],
   "source": [
    "#Reference:\n",
    "#https://www.kaggle.com/code/jeffysonar/spam-filter-using-naive-bayes-classifier/notebook\n",
    "#https://www.youtube.com/watch?v=shU44DT0sJA\n",
    "#https://www.kdnuggets.com/2020/07/spam-filter-python-naive-bayes-scratch.html"
   ]
  }
 ],
 "metadata": {
  "kernelspec": {
   "display_name": "Python 3 (ipykernel)",
   "language": "python",
   "name": "python3"
  },
  "language_info": {
   "codemirror_mode": {
    "name": "ipython",
    "version": 3
   },
   "file_extension": ".py",
   "mimetype": "text/x-python",
   "name": "python",
   "nbconvert_exporter": "python",
   "pygments_lexer": "ipython3",
   "version": "3.9.13"
  },
  "vscode": {
   "interpreter": {
    "hash": "aee8b7b246df8f9039afb4144a1f6fd8d2ca17a180786b69acc140d282b71a49"
   }
  }
 },
 "nbformat": 4,
 "nbformat_minor": 2
}
